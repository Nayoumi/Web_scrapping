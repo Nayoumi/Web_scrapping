{
  "nbformat": 4,
  "nbformat_minor": 0,
  "metadata": {
    "colab": {
      "name": "web_scraping_task",
      "provenance": [],
      "collapsed_sections": [],
      "authorship_tag": "ABX9TyNRcdlEmxJuXLqc21ruS3fM",
      "include_colab_link": true
    },
    "kernelspec": {
      "name": "python3",
      "display_name": "Python 3"
    },
    "language_info": {
      "name": "python"
    }
  },
  "cells": [
    {
      "cell_type": "markdown",
      "metadata": {
        "id": "view-in-github",
        "colab_type": "text"
      },
      "source": [
        "<a href=\"https://colab.research.google.com/github/Nayoumi/Web_scrapping/blob/main/web_scraping_task.ipynb\" target=\"_parent\"><img src=\"https://colab.research.google.com/assets/colab-badge.svg\" alt=\"Open In Colab\"/></a>"
      ]
    },
    {
      "cell_type": "markdown",
      "metadata": {
        "id": "2guOfGrigYe2"
      },
      "source": [
        "### Importing the required libraries"
      ]
    },
    {
      "cell_type": "code",
      "metadata": {
        "id": "q3upL9SDaFXM"
      },
      "source": [
        "import re\n",
        "import requests\n",
        "import pandas as pd\n",
        "from bs4 import BeautifulSoup,SoupStrainer"
      ],
      "execution_count": null,
      "outputs": []
    },
    {
      "cell_type": "markdown",
      "metadata": {
        "id": "mda3PnljgdcI"
      },
      "source": [
        "### Scrapping the urls from the main page"
      ]
    },
    {
      "cell_type": "code",
      "metadata": {
        "colab": {
          "base_uri": "https://localhost:8080/"
        },
        "id": "DLisx8XcgXY9",
        "outputId": "bb400ab4-4c9f-4cd2-eb24-dd9c898724c5"
      },
      "source": [
        "url_list1=[] ## creating an empty list to store the url links\n",
        "docs_url = \"https://docplus.online\" ## main page url\n",
        "html_page = requests.get(docs_url) ## getting the html page of the url\n",
        "soup = BeautifulSoup(html_page.text, 'html.parser') ## parsing the html page using beautiful soup\n",
        "for link in soup.find_all('a', href=True): ## looping the href tag in the main page to find all urls of tag href\n",
        "  #print(link.get('href'))\n",
        "  url_list1.append(link.get(\"href\")) ## appending the urls to the empty list\n",
        "print(url_list1) ##displaying the list"
      ],
      "execution_count": null,
      "outputs": [
        {
          "output_type": "stream",
          "text": [
            "['#', '/about', '/contact', '/careers', '/press', '/blogs', '/privacy_policy', '/terms_and_conditions', 'https://www.linkedin.com/company/73177870/admin/', 'https://instagram.com/docplushealthcare?utm_medium=copy_link', 'https://m.facebook.com/106151191673391/', 'https://twitter.com/DocplusL?s=09']\n"
          ],
          "name": "stdout"
        }
      ]
    },
    {
      "cell_type": "markdown",
      "metadata": {
        "id": "7Hi6_ZVpgr3b"
      },
      "source": [
        "### Scrapping the urls from doctors page"
      ]
    },
    {
      "cell_type": "code",
      "metadata": {
        "colab": {
          "base_uri": "https://localhost:8080/"
        },
        "id": "lxBGP26Ra4tl",
        "outputId": "3e03d94d-4dce-427c-91bf-b523e33bb9f5"
      },
      "source": [
        "doc_list=[] ## creating an empty list to store the url links\n",
        "url_to_scrape = \"https://docplus.online/doctors?name=Dermatologist\" ## doctors page url\n",
        "html_document = requests.get(url_to_scrape) ## getting the html page of the url\n",
        "soup = BeautifulSoup(html_document.text, 'html.parser') ## parsing the html page using beautiful soup\n",
        "for link in soup.find_all('script',src=True): ## looping the src tag in the doctors page to find all urls of tag src\n",
        "  doc_list.append(link.get(\"src\")) ## appending the urls to the empty list\n",
        "print(doc_list) ##displaying the list"
      ],
      "execution_count": null,
      "outputs": [
        {
          "output_type": "stream",
          "text": [
            "['/_next/static/chunks/polyfills-dfaad1b896436702ef8d.js', '/_next/static/chunks/79de5ff0.7119f47bddd8fe9b1ffa.js', '/_next/static/chunks/1bfc9850.291504b0aeb10ddeb165.js', '/_next/static/chunks/d7eeaac4.77307dcb1a54ee50c5d5.js', '/_next/static/chunks/157.b5d3819e201ea3590437.js', '/_next/static/chunks/159.a06204917ba9c05c9d92.js', '/_next/static/chunks/webpack-ce0f3b75804327143b88.js', '/_next/static/chunks/framework.59500e73ae46662667d6.js', '/_next/static/chunks/32acfcdd511ca12b9b18b446699f5c0082d62bd6.71d68ec00d361c7548dd.js', '/_next/static/chunks/41414db5ea3848c64762d2e5d869d9af7a1a77d9.a603627e988b70f7e384.js', '/_next/static/chunks/main-5905b50954b59a8473a4.js', '/_next/static/chunks/cb1608f2.aaaa9e9d0381ff90fe11.js', '/_next/static/chunks/e8ba0c2e.cdfd26668d511e5abe70.js', '/_next/static/chunks/9c0d1f5a.cd5f7656c0fb467bb4ae.js', '/_next/static/chunks/cedce4872e7eb3a376055398314866333e516289.fff42ff18d1d23c189fa.js', '/_next/static/chunks/3d8610a03237fbe317afa0d8cb5da2272f3cf72e.de356b364d8011dc24ad.js', '/_next/static/chunks/0b38ce16c0216c7cd94061a368a32422d53e496c.07ce75a4f333a3357cde.js', '/_next/static/chunks/023ddd16fa902e155c2db68833fe4fec68c6f802.5170de688cf4d708115b.js', '/_next/static/chunks/dbb66e80695c73365bd1567aff33894aee05bcf3.14e96c600d5cb37e9a41.js', '/_next/static/chunks/0bd8cbcc520788aab1c2d3075d027aec027f107c.dca4de40ce372f8e4209.js', '/_next/static/chunks/7694ae3653b0d0252d3d42697af0b2c235855225.ca77b35b5c97cc55fd65.js', '/_next/static/chunks/c51e674578b18dbbee77c3950fa57d52be3aa367.2367d99db20fc1a399a3.js', '/_next/static/chunks/8e9f47c9dbfa648c884e7fc1f4dfa0bb342045df.2c1c53c262e6723c6149.js', '/_next/static/chunks/db9f6eb8a826f1a7b1e2471f4304bf65ab5b573a.ee87f7c89c479c692143.js', '/_next/static/chunks/c249d58063d7fe7c22222b4d7319f88750fbbc4e.34eaab90f0f8368a768f.js', '/_next/static/chunks/3181fa4783185f2b1d1b92efe183e7968fc6c8d6.f4482e6c47135248a88f.js', '/_next/static/chunks/38be2ae1d516a34e8b927cf0b441357ec5231281.1fd64c7ac80a2bb2379a.js', '/_next/static/chunks/1a9dfe1ffff776caac57ee4b09fd976abba7d7c0.3d6cc1378f9d7fe65a19.js', '/_next/static/chunks/c374d60e4ff53661ad497102c75fab95cbab3652.4ae0a819d63d00c4f398.js', '/_next/static/chunks/61c13dacc8b83f8680de61eb5b51afb0f2fc3e01.f6d1377757db2ca35293.js', '/_next/static/chunks/b2b35f972d0afd218ac60f27c2bb84049833a942_CSS.ee17212073ffc002002d.js', '/_next/static/chunks/c5d5d9945a0152a258e01fca87a95527dd9efa1a.b6de2dcd2575704ad8e0.js', '/_next/static/chunks/styles.70eccee81c57150ef2c5.js', '/_next/static/chunks/pages/_app-180cac974612087cb760.js', '/_next/static/chunks/75fc9c18.1035252014c3089024e6.js', '/_next/static/chunks/0c428ae2.6aaf4f3e3409332c8910.js', '/_next/static/chunks/c620225af46fb5f4ea5e4dab75e281ece4876338.4dc7fc68268f39016c22.js', '/_next/static/chunks/6be88d43b835b055128b288b7eb47c9a67a0f1c3.c25cb5e0167751a92b92.js', '/_next/static/chunks/pages/doctors-2d441c9c7b8744e3599d.js', '/_next/static/zok0O1lz0TNhFASwBWCyR/_buildManifest.js', '/_next/static/zok0O1lz0TNhFASwBWCyR/_ssgManifest.js']\n"
          ],
          "name": "stdout"
        }
      ]
    },
    {
      "cell_type": "markdown",
      "metadata": {
        "id": "pCCGhD7Ig0pn"
      },
      "source": [
        "###Scrapping the urls from about page"
      ]
    },
    {
      "cell_type": "code",
      "metadata": {
        "colab": {
          "base_uri": "https://localhost:8080/"
        },
        "id": "VfJx9QtLi5-U",
        "outputId": "a5aaa411-d79d-4a94-edbd-3819b34f2c79"
      },
      "source": [
        "about_list=[] ## creating an empty list to store the url links\n",
        "url_to_scrape = \"https://docplus.online/about\" ## about page url\n",
        "html_document = requests.get(url_to_scrape) ## getting the html page of the url\n",
        "soup = BeautifulSoup(html_document.text, 'html.parser') ## parsing the html page using beautiful soup\n",
        "for link in soup.find_all('link',href=True):## looping the href tag in the about page to find all urls of tag href\n",
        "  about_list.append(link.get(\"href\")) ## appending the urls to the empty list\n",
        "print(about_list) ##displaying the list"
      ],
      "execution_count": null,
      "outputs": [
        {
          "output_type": "stream",
          "text": [
            "['/_next/static/css/e8ba0c2e.9c3bf4ef.chunk.css', '/_next/static/css/e8ba0c2e.9c3bf4ef.chunk.css', '/_next/static/css/9c0d1f5a.2c29df94.chunk.css', '/_next/static/css/9c0d1f5a.2c29df94.chunk.css', '/_next/static/css/b2b35f972d0afd218ac60f27c2bb84049833a942_CSS.d53fdb3a.chunk.css', '/_next/static/css/b2b35f972d0afd218ac60f27c2bb84049833a942_CSS.d53fdb3a.chunk.css', '/_next/static/css/styles.fd0ef1af.chunk.css', '/_next/static/css/styles.fd0ef1af.chunk.css', '/_next/static/chunks/cb1608f2.aaaa9e9d0381ff90fe11.js', '/_next/static/chunks/79de5ff0.7119f47bddd8fe9b1ffa.js', '/_next/static/chunks/1bfc9850.291504b0aeb10ddeb165.js', '/_next/static/chunks/d7eeaac4.77307dcb1a54ee50c5d5.js', '/_next/static/chunks/157.b5d3819e201ea3590437.js', '/_next/static/chunks/cedce4872e7eb3a376055398314866333e516289.fff42ff18d1d23c189fa.js', '/_next/static/chunks/3d8610a03237fbe317afa0d8cb5da2272f3cf72e.de356b364d8011dc24ad.js', '/_next/static/chunks/023ddd16fa902e155c2db68833fe4fec68c6f802.5170de688cf4d708115b.js', '/_next/static/chunks/159.a06204917ba9c05c9d92.js', '/_next/static/chunks/webpack-ce0f3b75804327143b88.js', '/_next/static/chunks/framework.59500e73ae46662667d6.js', '/_next/static/chunks/32acfcdd511ca12b9b18b446699f5c0082d62bd6.71d68ec00d361c7548dd.js', '/_next/static/chunks/41414db5ea3848c64762d2e5d869d9af7a1a77d9.a603627e988b70f7e384.js', '/_next/static/chunks/main-5905b50954b59a8473a4.js', '/_next/static/chunks/cb1608f2.aaaa9e9d0381ff90fe11.js', '/_next/static/chunks/e8ba0c2e.cdfd26668d511e5abe70.js', '/_next/static/chunks/9c0d1f5a.cd5f7656c0fb467bb4ae.js', '/_next/static/chunks/cedce4872e7eb3a376055398314866333e516289.fff42ff18d1d23c189fa.js', '/_next/static/chunks/3d8610a03237fbe317afa0d8cb5da2272f3cf72e.de356b364d8011dc24ad.js', '/_next/static/chunks/0b38ce16c0216c7cd94061a368a32422d53e496c.07ce75a4f333a3357cde.js', '/_next/static/chunks/023ddd16fa902e155c2db68833fe4fec68c6f802.5170de688cf4d708115b.js', '/_next/static/chunks/dbb66e80695c73365bd1567aff33894aee05bcf3.14e96c600d5cb37e9a41.js', '/_next/static/chunks/0bd8cbcc520788aab1c2d3075d027aec027f107c.dca4de40ce372f8e4209.js', '/_next/static/chunks/7694ae3653b0d0252d3d42697af0b2c235855225.ca77b35b5c97cc55fd65.js', '/_next/static/chunks/c51e674578b18dbbee77c3950fa57d52be3aa367.2367d99db20fc1a399a3.js', '/_next/static/chunks/8e9f47c9dbfa648c884e7fc1f4dfa0bb342045df.2c1c53c262e6723c6149.js', '/_next/static/chunks/db9f6eb8a826f1a7b1e2471f4304bf65ab5b573a.ee87f7c89c479c692143.js', '/_next/static/chunks/c249d58063d7fe7c22222b4d7319f88750fbbc4e.34eaab90f0f8368a768f.js', '/_next/static/chunks/3181fa4783185f2b1d1b92efe183e7968fc6c8d6.f4482e6c47135248a88f.js', '/_next/static/chunks/38be2ae1d516a34e8b927cf0b441357ec5231281.1fd64c7ac80a2bb2379a.js', '/_next/static/chunks/1a9dfe1ffff776caac57ee4b09fd976abba7d7c0.3d6cc1378f9d7fe65a19.js', '/_next/static/chunks/c374d60e4ff53661ad497102c75fab95cbab3652.4ae0a819d63d00c4f398.js', '/_next/static/chunks/61c13dacc8b83f8680de61eb5b51afb0f2fc3e01.f6d1377757db2ca35293.js', '/_next/static/chunks/b2b35f972d0afd218ac60f27c2bb84049833a942_CSS.ee17212073ffc002002d.js', '/_next/static/chunks/c5d5d9945a0152a258e01fca87a95527dd9efa1a.b6de2dcd2575704ad8e0.js', '/_next/static/chunks/styles.70eccee81c57150ef2c5.js', '/_next/static/chunks/pages/_app-180cac974612087cb760.js', '/_next/static/chunks/31664189.83dea837712ca6566a35.js', '/_next/static/chunks/b72ad907e962d9272d2eed891de438e482738777.872f50057d698019d52d.js', '/_next/static/chunks/pages/about-a0222e539edd039b1f3c.js']\n"
          ],
          "name": "stdout"
        }
      ]
    },
    {
      "cell_type": "markdown",
      "metadata": {
        "id": "ozpAxo1Rg7W3"
      },
      "source": [
        "### Scrapping urls from blogs page"
      ]
    },
    {
      "cell_type": "code",
      "metadata": {
        "colab": {
          "base_uri": "https://localhost:8080/"
        },
        "id": "uabzgRgWnVAA",
        "outputId": "19ac3034-ca7b-4ec3-b8ab-f547ca4900d5"
      },
      "source": [
        "img_list=[] ## creating an empty list to store the url links\n",
        "url_to_scrape = \"https://docplus.online/blogs\" ## blogs page url\n",
        "html_document = requests.get(url_to_scrape) ## getting the html page of the url\n",
        "soup = BeautifulSoup(html_document.text, 'html.parser') ## parsing the html page using beautiful soup\n",
        "for link in soup.find_all('img',src=True): ## looping the src tag in the blogs page to find all urls of tag src\n",
        "  img_list.append(link.get(\"src\")) ## appending the urls to the empty list\n",
        "print(img_list) ##displaying the list"
      ],
      "execution_count": null,
      "outputs": [
        {
          "output_type": "stream",
          "text": [
            "['data:image/svg+xml;base64,PHN2ZyB3aWR0aD0iMTE4IiBoZWlnaHQ9IjM4IiB4bWxucz0iaHR0cDovL3d3dy53My5vcmcvMjAwMC9zdmciIHZlcnNpb249IjEuMSIvPg==', 'data:image/webp;base64,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', '/_next/static/images/luca-onniboni-4v9Kk01mEbY-unsplash (1)-a76e695fb869dde2c1bf9ea8aafb38a7.png', 'https://server.docplus.onlineundefined', 'data:image/png;base64,iVBORw0KGgoAAAANSUhEUgAAABgAAAAXCAYAAAARIY8tAAAABHNCSVQICAgIfAhkiAAAAZJJREFUSEullYFRwzAMRekEsAFlAugEhAmACQgTABPQEWACygTABHQDYAJgA9iA/3L2neJITkp156tjS3qSLLuznc3lSCbHGvdTTGdS2tN4S7+X+n2uGM6N7lrzkzEIgKXGbVL8SUbvgSHRE0yWlSYEFUrOAIf7EyE2IEyqEAAIkZHyroEcaE5GnuD0wmzcaH7nKWaAByErajwVQqkA98QC2Gg0Xo3GGIT9Q6M/gJQAdFuNB2NEV50HpaID1wYyaBIP4EFIPeqWKiQCAOHQrkzkNchcepTLNslC3181AL5xarvFPcgURNmJABdjgPJivcjoLDgPljmvU7NfBeQnhPSRX40mlcJjtFq0zfGo7zbKAOe0Kxn82zmGHqB0jh5tGj2ClOzJpPSRMu0uqAdYaX2TgyVTgkJ6zj3ANs6/U0l7T4vNoOx7/lCuvdNMEX+ayMMGyIBWyoMOqDif3AAAGg37wHXtFThnuXzguLGsuQLARj84pMKqDKZ2szvTXKKl5vNU8+j9R98+bKPOLaBSke22/gBZxGRIU3tvGgAAAABJRU5ErkJggg==', 'data:image/webp;base64,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']\n"
          ],
          "name": "stdout"
        }
      ]
    },
    {
      "cell_type": "markdown",
      "metadata": {
        "id": "EdxG4UP9hCuK"
      },
      "source": [
        "### Concatenating https to the url list"
      ]
    },
    {
      "cell_type": "code",
      "metadata": {
        "colab": {
          "base_uri": "https://localhost:8080/"
        },
        "id": "bFhDM-WTeDGE",
        "outputId": "946f281a-a076-40ca-96c7-a38b0028b24d"
      },
      "source": [
        "new_url1 = []\n",
        "for i in range(8):\n",
        "  new_url = \"https://docplus.online\" + url_list1[i] ## concatenating the https to the urls list\n",
        "  new_url1.append(new_url)\n",
        "  \n",
        "print(new_url1)\n",
        "\n"
      ],
      "execution_count": null,
      "outputs": [
        {
          "output_type": "stream",
          "text": [
            "['https://docplus.online#', 'https://docplus.online/about', 'https://docplus.online/contact', 'https://docplus.online/careers', 'https://docplus.online/press', 'https://docplus.online/blogs', 'https://docplus.online/privacy_policy', 'https://docplus.online/terms_and_conditions']\n"
          ],
          "name": "stdout"
        }
      ]
    },
    {
      "cell_type": "markdown",
      "metadata": {
        "id": "QrkEAaWOhKVw"
      },
      "source": [
        "### Removing unwanted data"
      ]
    },
    {
      "cell_type": "code",
      "metadata": {
        "id": "iVoUP--QgE5Z"
      },
      "source": [
        "new_url1.remove(\"https://docplus.online#\")"
      ],
      "execution_count": null,
      "outputs": []
    },
    {
      "cell_type": "code",
      "metadata": {
        "colab": {
          "base_uri": "https://localhost:8080/"
        },
        "id": "lXldv2wCiCi9",
        "outputId": "75f8c338-2ecf-4f87-8e4a-663ae1609537"
      },
      "source": [
        "new_url1 #displaying the urls from the main page"
      ],
      "execution_count": null,
      "outputs": [
        {
          "output_type": "execute_result",
          "data": {
            "text/plain": [
              "['https://docplus.online/about',\n",
              " 'https://docplus.online/contact',\n",
              " 'https://docplus.online/careers',\n",
              " 'https://docplus.online/press',\n",
              " 'https://docplus.online/blogs',\n",
              " 'https://docplus.online/privacy_policy',\n",
              " 'https://docplus.online/terms_and_conditions']"
            ]
          },
          "metadata": {
            "tags": []
          },
          "execution_count": 16
        }
      ]
    },
    {
      "cell_type": "markdown",
      "metadata": {
        "id": "CbnutGcOhVqx"
      },
      "source": [
        "###Converting the lists to data frame"
      ]
    },
    {
      "cell_type": "code",
      "metadata": {
        "id": "VgT_61GakmUA"
      },
      "source": [
        "new_url1 = pd.DataFrame(new_url1)\n",
        "doc_list =pd.DataFrame(doc_list)\n",
        "about_list = pd.DataFrame(about_list)\n",
        "img_list =pd.DataFrame(img_list)\n"
      ],
      "execution_count": null,
      "outputs": []
    },
    {
      "cell_type": "markdown",
      "metadata": {
        "id": "2xSr6NWRhdLk"
      },
      "source": [
        "### Concatinating the data frames into one data frame"
      ]
    },
    {
      "cell_type": "code",
      "metadata": {
        "id": "8PjDbUKHrUVS"
      },
      "source": [
        "doc_dataframe = [new_url1,doc_list,about_list,img_list]\n",
        "new_data_frame=pd.concat(doc_dataframe,ignore_index=True) # creating a column with name link_list and concatenating the data frames"
      ],
      "execution_count": null,
      "outputs": []
    },
    {
      "cell_type": "code",
      "metadata": {
        "id": "ogZh4xr2oj_-"
      },
      "source": [
        "new_data_frame[\"link_list\"] = new_data_frame"
      ],
      "execution_count": null,
      "outputs": []
    },
    {
      "cell_type": "code",
      "metadata": {
        "id": "mNeKCIGBsQcE"
      },
      "source": [
        "new_data_frame.drop(0,axis=1,inplace=True) # dropping the default dataframe column name "
      ],
      "execution_count": null,
      "outputs": []
    },
    {
      "cell_type": "code",
      "metadata": {
        "colab": {
          "base_uri": "https://localhost:8080/",
          "height": 419
        },
        "id": "GJPNs4hKs9fJ",
        "outputId": "852849fd-5be8-402b-af65-87fbcf31deb0"
      },
      "source": [
        "new_data_frame # displaying the available urls in the web page in a data frame"
      ],
      "execution_count": null,
      "outputs": [
        {
          "output_type": "execute_result",
          "data": {
            "text/html": [
              "<div>\n",
              "<style scoped>\n",
              "    .dataframe tbody tr th:only-of-type {\n",
              "        vertical-align: middle;\n",
              "    }\n",
              "\n",
              "    .dataframe tbody tr th {\n",
              "        vertical-align: top;\n",
              "    }\n",
              "\n",
              "    .dataframe thead th {\n",
              "        text-align: right;\n",
              "    }\n",
              "</style>\n",
              "<table border=\"1\" class=\"dataframe\">\n",
              "  <thead>\n",
              "    <tr style=\"text-align: right;\">\n",
              "      <th></th>\n",
              "      <th>link_list</th>\n",
              "    </tr>\n",
              "  </thead>\n",
              "  <tbody>\n",
              "    <tr>\n",
              "      <th>0</th>\n",
              "      <td>https://docplus.online/about</td>\n",
              "    </tr>\n",
              "    <tr>\n",
              "      <th>1</th>\n",
              "      <td>https://docplus.online/contact</td>\n",
              "    </tr>\n",
              "    <tr>\n",
              "      <th>2</th>\n",
              "      <td>https://docplus.online/careers</td>\n",
              "    </tr>\n",
              "    <tr>\n",
              "      <th>3</th>\n",
              "      <td>https://docplus.online/press</td>\n",
              "    </tr>\n",
              "    <tr>\n",
              "      <th>4</th>\n",
              "      <td>https://docplus.online/blogs</td>\n",
              "    </tr>\n",
              "    <tr>\n",
              "      <th>...</th>\n",
              "      <td>...</td>\n",
              "    </tr>\n",
              "    <tr>\n",
              "      <th>97</th>\n",
              "      <td>data:image/webp;base64,UklGRmoNAABXRUJQVlA4WAo...</td>\n",
              "    </tr>\n",
              "    <tr>\n",
              "      <th>98</th>\n",
              "      <td>/_next/static/images/luca-onniboni-4v9Kk01mEbY...</td>\n",
              "    </tr>\n",
              "    <tr>\n",
              "      <th>99</th>\n",
              "      <td>https://server.docplus.onlineundefined</td>\n",
              "    </tr>\n",
              "    <tr>\n",
              "      <th>100</th>\n",
              "      <td>data:image/png;base64,iVBORw0KGgoAAAANSUhEUgAA...</td>\n",
              "    </tr>\n",
              "    <tr>\n",
              "      <th>101</th>\n",
              "      <td>data:image/webp;base64,UklGRmoNAABXRUJQVlA4WAo...</td>\n",
              "    </tr>\n",
              "  </tbody>\n",
              "</table>\n",
              "<p>102 rows × 1 columns</p>\n",
              "</div>"
            ],
            "text/plain": [
              "                                             link_list\n",
              "0                         https://docplus.online/about\n",
              "1                       https://docplus.online/contact\n",
              "2                       https://docplus.online/careers\n",
              "3                         https://docplus.online/press\n",
              "4                         https://docplus.online/blogs\n",
              "..                                                 ...\n",
              "97   data:image/webp;base64,UklGRmoNAABXRUJQVlA4WAo...\n",
              "98   /_next/static/images/luca-onniboni-4v9Kk01mEbY...\n",
              "99              https://server.docplus.onlineundefined\n",
              "100  data:image/png;base64,iVBORw0KGgoAAAANSUhEUgAA...\n",
              "101  data:image/webp;base64,UklGRmoNAABXRUJQVlA4WAo...\n",
              "\n",
              "[102 rows x 1 columns]"
            ]
          },
          "metadata": {
            "tags": []
          },
          "execution_count": 24
        }
      ]
    },
    {
      "cell_type": "markdown",
      "metadata": {
        "id": "QvluwTODiFMC"
      },
      "source": [
        "### Downloading the url list using csv file function"
      ]
    },
    {
      "cell_type": "code",
      "metadata": {
        "id": "sYEMtj_Gt3x3"
      },
      "source": [
        "new_data_frame.to_csv(\"doc_lists.csv\")"
      ],
      "execution_count": null,
      "outputs": []
    },
    {
      "cell_type": "code",
      "metadata": {
        "id": "K-9-7Zc3t-Du"
      },
      "source": [
        ""
      ],
      "execution_count": null,
      "outputs": []
    }
  ]
}